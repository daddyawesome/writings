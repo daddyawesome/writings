{
  "nbformat": 4,
  "nbformat_minor": 0,
  "metadata": {
    "colab": {
      "name": "be a Python Shinobi.ipynb",
      "provenance": [],
      "collapsed_sections": [],
      "authorship_tag": "ABX9TyPHbBZ0eberNd7wu0K7GqjD",
      "include_colab_link": true
    },
    "kernelspec": {
      "name": "python3",
      "display_name": "Python 3"
    }
  },
  "cells": [
    {
      "cell_type": "markdown",
      "metadata": {
        "id": "view-in-github",
        "colab_type": "text"
      },
      "source": [
        "<a href=\"https://colab.research.google.com/github/daddyawesome/writings/blob/master/be_a_Python_Shinobi.ipynb\" target=\"_parent\"><img src=\"https://colab.research.google.com/assets/colab-badge.svg\" alt=\"Open In Colab\"/></a>"
      ]
    },
    {
      "cell_type": "markdown",
      "metadata": {
        "id": "61hZYtVGEPoi",
        "colab_type": "text"
      },
      "source": [
        "#Introduction\n",
        "\n",
        "## What is a Python Shinobi?\n",
        "![alt text](https://encrypted-tbn0.gstatic.com/images?q=tbn%3AANd9GcRKYEkvhFM-91k6a80gYWe8vRNFsPHzmyoArQ&usqp=CAU)\n",
        "\n",
        "A python shinobi are kids who knows how to code using python.  \n",
        "\n",
        "![alt text](https://snipboard.io/hFKG2m.jpg)\n",
        "<br><br>\n",
        "Coding for Kids: Python is a unique and fun introduction to the Python programming language. Written for someone with absolutely no experience with coding, this book uses silly analogies, helpful examples, and many activities and games to help anyone learn how to code in Python!\n",
        "<br><br>\n",
        "Code is at the core of almost everything we use and love. We can write code to make games, create music and art, bring robots to life, and power almost anything that is electronic. When you realize how much coding is a part of the world of the future, it becomes so important to learn how it works!\n",
        "<br><br>\n",
        "Coding is literally translating human ideas and actions into a language that computers can understand. Python is one of the languages, but there are many others—for example: JavaScript, C#, Ruby, and C++. Each of these languages tells the computer how to do something, but each one does it a bit differently. I chose Python for this book because it is very close to our speaking language of English, which makes the coding concepts I will introduce a little easier to understand. :) \n",
        "<br><br>\n",
        "Coding is one skill that you’ll only learn by doing. That’s why I’ve structured each chapter to walk you through the code as you follow along. This makes the book truly interactive, as you’ll learn about a concept, write some code, understand what it’s doing, read and learn a bit more, maybe fix a bug or two, and see the results of your code in real time! And to really help you understand the different coding concepts in this book, I’ve also included activities at the end of each chapter to help you test your knowledge, combine multiple concepts, and write more code. After all, practice makes perfect—especially with coding! Finally, if some of the activities are too easy for you, or if you just want to keep coding, I’ve included even more difficult challenges after each chapter to really stretch your brain and give you more chances to show off your creativity! \n",
        "<br><br>\n",
        "This notebook will help you start an incredible adventure into the world of programming. By the end of it, you’ll be ready for the world of the future! What are you waiting for? \n",
        "<br><br>\n",
        "\n",
        "![](https://snipboard.io/mwYVRr.jpg)\n",
        "\n",
        "\n",
        "- Genin. \n",
        "- Chuunin. \n",
        "- Jounin. \n",
        "- Special Jounin. \n",
        "- Kage. "
      ]
    },
    {
      "cell_type": "markdown",
      "metadata": {
        "id": "cNnZLrrVESNe",
        "colab_type": "text"
      },
      "source": [
        "## Welcome to Python\n",
        "**Hey there! Since you’re reading this book, you must be a pretty curious and cool person.**  \n",
        "<br><br>\n",
        "\n",
        "*Why?  *\n",
        "<br><br>\n",
        "\n",
        "Because you want to learn how to code! And who wouldn’t? Coding is an awesome skill that can help you build all kinds of things and solve a lot of problems. When you code, you take human ideas and then translate them into a language that a machine can understand.\n",
        "<br><br>\n",
        "\n",
        "Coding is built around the concept of input and output. We give the computer some **input** , which is any information or data provided by us humans, and expect some **output** , which can be words, pictures, an action, or some other result, after the computer has processed the input we gave it. Sounds interesting, doesn’t it?   \n",
        "<br><br>\n",
        "\n",
        "How many things can you think of that follow this input/output, or **I/O** , concept? For example, when we press buttons on a controller or swipe our fingers left and right on a mobile game, that’s input. And when our character jumps, ducks, moves left, or moves right, that’s output. How about baking? All of the ingredients we need to make cookies can be considered input. After following the instructions and using the ingredients, we get our output, which are the baked cookies! \n",
        "<br><br>\n",
        "\n",
        "Using examples like these, as well as silly scenarios and conversations with a computer, we’ll explore how to code in Python, and you’ll understand what we’re doing in no time! The coolest thing about coding is that you can do it from almost anywhere. All you need is a laptop or computer (Windows PC or Mac is fine), and I’ll help you with the rest. \n",
        "<br><br>\n",
        "Are you ready to learn how to speak to a computer? Hooray! Let’s go! "
      ]
    },
    {
      "cell_type": "markdown",
      "metadata": {
        "id": "9ggGqJ7zEShE",
        "colab_type": "text"
      },
      "source": [
        "![welcome to pythn](https://snipboard.io/0hvpcZ.jpg)\n",
        "\n",
        "Just like humans can understand many different languages, a computer can understand the ideas and concepts that we input to it through several different programming languages. In this book, we’ll focus on the Python programming language because Python is easy to understand, can be used in many different ways, and is quick to learn. Also, it is a popular language that runs on almost every machine and is used at many big, important organizations like Google, Instagram, NASA, and Spotify.\n",
        "\n",
        "<br><br>  \n",
        "![alt text](https://snipboard.io/41msKG.jpg)\n",
        "## NOT... We do the ninja way ... *we want to dive right into coding*\n",
        "\n",
        "<br><br>  \n",
        "Since we are using notebook we will be using google colab.  \n",
        "<br> \n",
        "[Google colab](https://colab.research.google.com/) will help us to run codes in python in the cloud\n",
        "![google colab](https://snipboard.io/XwTLvW.jpg)\n",
        "\n",
        "\n"
      ]
    },
    {
      "cell_type": "markdown",
      "metadata": {
        "id": "aBpzMpt-EStV",
        "colab_type": "text"
      },
      "source": [
        "## How to use [Google Colab](https://colab.research.google.com/)\n",
        "Just use your google account to open.\n",
        "\n",
        "[Google Colab](https://colab.research.google.com/) has two type of cell\n",
        "- Code Cell and Text Cell\n",
        "1. Code Cell - this where you type your code and just click on play button to run your code (Easy)\n",
        "![Code cell](https://snipboard.io/YTEXUe.jpg)\n",
        "2. Text Cell -this is where you write things. anything you want to say about your code or something (just like I am doing right now)\n",
        "![text cell](https://snipboard.io/VRyLiE.jpg)"
      ]
    },
    {
      "cell_type": "markdown",
      "metadata": {
        "id": "_ChLVzhvCAOJ",
        "colab_type": "text"
      },
      "source": [
        "## Say Hi to Google Colab\n",
        "<br>\n",
        "Now that you meet google colab, it is always polite to say Hi.\n",
        "<br>\n",
        "in the code cell below, Go ahead and type the followiing code\n",
        "\n",
        "![Hello](https://snipboard.io/GWrxd8.jpg)\n",
        "\n",
        "Now run your first JUTSU or code by clicking on the play button where it is mark red.  \n",
        "___\n"
      ]
    },
    {
      "cell_type": "code",
      "metadata": {
        "id": "oONlfIRB9j9i",
        "colab_type": "code",
        "colab": {}
      },
      "source": [
        ""
      ],
      "execution_count": null,
      "outputs": []
    },
    {
      "cell_type": "markdown",
      "metadata": {
        "id": "oq7i8j7mHf2O",
        "colab_type": "text"
      },
      "source": [
        "Do see something like this?  \n",
        "![Run Hello](https://snipboard.io/IDbzoc.jpg)\n",
        "<br>\n",
        "Great job! You’ve written your first line of Python code! Give yourself a pat on the back, or high-five the person closest to you. You’re about to learn some awesome things.  \n",
        "![congrats](https://snipboard.io/7AQnie.jpg)"
      ]
    },
    {
      "cell_type": "markdown",
      "metadata": {
        "id": "GWCOYPaVH4Sb",
        "colab_type": "text"
      },
      "source": [
        "# Turtle\tGraphics:\tDrawing\twith Python \n",
        "In\tthis\tchapter,\twe’ll\twrite\tshort,\tsimple\tprograms\tto\tcreate\tbeautifully\tcomplex\tvisuals. To\tdo\tthis,\twe’ll\tuse\t*turtle\tgraphics*.\t\n",
        "<br>\n",
        "In\tturtle\tgraphics,\tyou\twrite\tinstructions\tthat\ttell\ta virtual,\tor\timaginary,\tturtle\tto\tmove\taround\tthe\tscreen.\tThe\tturtle\tcarries\ta\tpen,\tand\tyou can\tinstruct\tthe\tturtle\tto\tuse\tits\tpen\tto\tdraw\tlines\twherever\tit\tgoes.\tBy\twriting\tcode\tto move\tthe\tturtle\taround\tin\tcool\tpatterns,\tyou\tcan\tmake\tit\tdraw\tamazing\tpictures.   \n",
        "<br>\n",
        "Using\tturtle\tgraphics,\tnot\tonly\tcan\tyou\tcreate\timpressive\tvisuals\twith\ta\tfew\tlines\tof\tcode, but\tyou\tcan\talso\tfollow\talong\twith\tthe\tturtle\tand\tsee\thow\teach\tline\tof\tcode\taffects\tits movement.\tThis\twill\thelp\tyou\tunderstand\tthe\t*logic*\tof\tyour\tcode."
      ]
    },
    {
      "cell_type": "code",
      "metadata": {
        "id": "fmKz6yfHkQuy",
        "colab_type": "code",
        "colab": {}
      },
      "source": [
        "# Run this code first to enable turtle on Colab\n",
        "!pip install ColabTurtle"
      ],
      "execution_count": null,
      "outputs": []
    },
    {
      "cell_type": "markdown",
      "metadata": {
        "id": "2jY63zGQky5s",
        "colab_type": "text"
      },
      "source": [
        "### Turtle methods we can use\n",
        "|   |   |   |   |   |\n",
        "|---|---|---|---|---|\n",
        "|forward(units)   |backward(units)   |   |   |   |\n",
        "|right(degrees)   |face(degrees)   |left(degrees)   |   |   |\n",
        "|penup()   |pendown()   |   |   |   |\n",
        "|speed(speed)   |   |   |   |   |\n",
        "|setx(x)   |sety(y)   |   |   |   |\n",
        "|getx()   |gety()   |   |   |   |\n",
        "|goto(x, y)   |   |   |   |   |\n",
        "|showturtle()  | hideturtle()  |   |   |   |\n",
        "|bgcolor(color)   |   |   |   |   |\n",
        "|color(color)   |   |   |   |   |\n",
        "|width(width)   |   |   |   |   |\n"
      ]
    },
    {
      "cell_type": "markdown",
      "metadata": {
        "id": "2ce6a-VsjlfP",
        "colab_type": "text"
      },
      "source": [
        "## Our\tFirst\tTurtle\tProgram \n",
        "Let’s\twrite\tour\tfirst\tprogram\tusing\tturtle\tgraphics.\tType\tthe\tfollowing\tcode\t\n",
        "\n",
        "```\n",
        "# SquareSpiral1 - Draws a square spiral\n",
        "\n",
        "import ColabTurtle.Turtle as t\n",
        "t.initializeTurtle()\n",
        "\n",
        "x=0\n",
        "while(x <100):\n",
        "  x= x+3\n",
        "  t.forward(x)\n",
        "  t.left(90)\n",
        "\n",
        "```\n",
        "\n"
      ]
    },
    {
      "cell_type": "code",
      "metadata": {
        "id": "XNwJao49e2OL",
        "colab_type": "code",
        "colab": {
          "base_uri": "https://localhost:8080/",
          "height": 521
        },
        "outputId": "ae03b0dc-a856-4b13-e2dc-e6bb884750e2"
      },
      "source": [
        "import ColabTurtle.Turtle as t\n",
        "t.initializeTurtle()\n",
        "\n",
        "x=0\n",
        "while(x <100):\n",
        "  x= x+3\n",
        "  t.forward(x)\n",
        "  t.left(90)"
      ],
      "execution_count": 5,
      "outputs": [
        {
          "output_type": "display_data",
          "data": {
            "text/html": [
              "\n",
              "      <svg width=\"800\" height=\"500\">\n",
              "        <rect width=\"100%\" height=\"100%\" fill=\"black\"/>\n",
              "        <line x1=\"400\" y1=\"250\" x2=\"400.0\" y2=\"247.0\" stroke-linecap=\"round\" style=\"stroke:white;stroke-width:4\"/><line x1=\"400.0\" y1=\"247.0\" x2=\"394.0\" y2=\"247.0\" stroke-linecap=\"round\" style=\"stroke:white;stroke-width:4\"/><line x1=\"394.0\" y1=\"247.0\" x2=\"394.0\" y2=\"256.0\" stroke-linecap=\"round\" style=\"stroke:white;stroke-width:4\"/><line x1=\"394.0\" y1=\"256.0\" x2=\"406.0\" y2=\"256.0\" stroke-linecap=\"round\" style=\"stroke:white;stroke-width:4\"/><line x1=\"406.0\" y1=\"256.0\" x2=\"406.0\" y2=\"241.0\" stroke-linecap=\"round\" style=\"stroke:white;stroke-width:4\"/><line x1=\"406.0\" y1=\"241.0\" x2=\"388.0\" y2=\"241.0\" stroke-linecap=\"round\" style=\"stroke:white;stroke-width:4\"/><line x1=\"388.0\" y1=\"241.0\" x2=\"388.0\" y2=\"262.0\" stroke-linecap=\"round\" style=\"stroke:white;stroke-width:4\"/><line x1=\"388.0\" y1=\"262.0\" x2=\"412.0\" y2=\"262.0\" stroke-linecap=\"round\" style=\"stroke:white;stroke-width:4\"/><line x1=\"412.0\" y1=\"262.0\" x2=\"412.0\" y2=\"235.0\" stroke-linecap=\"round\" style=\"stroke:white;stroke-width:4\"/><line x1=\"412.0\" y1=\"235.0\" x2=\"382.0\" y2=\"235.0\" stroke-linecap=\"round\" style=\"stroke:white;stroke-width:4\"/><line x1=\"382.0\" y1=\"235.0\" x2=\"382.0\" y2=\"268.0\" stroke-linecap=\"round\" style=\"stroke:white;stroke-width:4\"/><line x1=\"382.0\" y1=\"268.0\" x2=\"418.0\" y2=\"268.0\" stroke-linecap=\"round\" style=\"stroke:white;stroke-width:4\"/><line x1=\"418.0\" y1=\"268.0\" x2=\"418.0\" y2=\"229.0\" stroke-linecap=\"round\" style=\"stroke:white;stroke-width:4\"/><line x1=\"418.0\" y1=\"229.0\" x2=\"376.0\" y2=\"229.0\" stroke-linecap=\"round\" style=\"stroke:white;stroke-width:4\"/><line x1=\"376.0\" y1=\"229.0\" x2=\"376.0\" y2=\"274.0\" stroke-linecap=\"round\" style=\"stroke:white;stroke-width:4\"/><line x1=\"376.0\" y1=\"274.0\" x2=\"424.0\" y2=\"274.0\" stroke-linecap=\"round\" style=\"stroke:white;stroke-width:4\"/><line x1=\"424.0\" y1=\"274.0\" x2=\"424.0\" y2=\"223.0\" stroke-linecap=\"round\" style=\"stroke:white;stroke-width:4\"/><line x1=\"424.0\" y1=\"223.0\" x2=\"370.0\" y2=\"223.0\" stroke-linecap=\"round\" style=\"stroke:white;stroke-width:4\"/><line x1=\"370.0\" y1=\"223.0\" x2=\"370.0\" y2=\"280.0\" stroke-linecap=\"round\" style=\"stroke:white;stroke-width:4\"/><line x1=\"370.0\" y1=\"280.0\" x2=\"430.0\" y2=\"280.0\" stroke-linecap=\"round\" style=\"stroke:white;stroke-width:4\"/><line x1=\"430.0\" y1=\"280.0\" x2=\"430.0\" y2=\"217.0\" stroke-linecap=\"round\" style=\"stroke:white;stroke-width:4\"/><line x1=\"430.0\" y1=\"217.0\" x2=\"364.0\" y2=\"217.0\" stroke-linecap=\"round\" style=\"stroke:white;stroke-width:4\"/><line x1=\"364.0\" y1=\"217.0\" x2=\"364.0\" y2=\"286.0\" stroke-linecap=\"round\" style=\"stroke:white;stroke-width:4\"/><line x1=\"364.0\" y1=\"286.0\" x2=\"436.0\" y2=\"286.0\" stroke-linecap=\"round\" style=\"stroke:white;stroke-width:4\"/><line x1=\"436.0\" y1=\"286.0\" x2=\"436.0\" y2=\"211.0\" stroke-linecap=\"round\" style=\"stroke:white;stroke-width:4\"/><line x1=\"436.0\" y1=\"211.0\" x2=\"358.0\" y2=\"211.0\" stroke-linecap=\"round\" style=\"stroke:white;stroke-width:4\"/><line x1=\"358.0\" y1=\"211.0\" x2=\"358.0\" y2=\"292.0\" stroke-linecap=\"round\" style=\"stroke:white;stroke-width:4\"/><line x1=\"358.0\" y1=\"292.0\" x2=\"442.0\" y2=\"292.0\" stroke-linecap=\"round\" style=\"stroke:white;stroke-width:4\"/><line x1=\"442.0\" y1=\"292.0\" x2=\"442.0\" y2=\"205.0\" stroke-linecap=\"round\" style=\"stroke:white;stroke-width:4\"/><line x1=\"442.0\" y1=\"205.0\" x2=\"352.0\" y2=\"205.0\" stroke-linecap=\"round\" style=\"stroke:white;stroke-width:4\"/><line x1=\"352.0\" y1=\"205.0\" x2=\"352.0\" y2=\"298.0\" stroke-linecap=\"round\" style=\"stroke:white;stroke-width:4\"/><line x1=\"352.0\" y1=\"298.0\" x2=\"448.0\" y2=\"298.0\" stroke-linecap=\"round\" style=\"stroke:white;stroke-width:4\"/><line x1=\"448.0\" y1=\"298.0\" x2=\"448.0\" y2=\"199.0\" stroke-linecap=\"round\" style=\"stroke:white;stroke-width:4\"/><line x1=\"448.0\" y1=\"199.0\" x2=\"346.0\" y2=\"199.0\" stroke-linecap=\"round\" style=\"stroke:white;stroke-width:4\"/>\n",
              "        \n",
              "      <g visibility=visible transform=\"rotate(0,346.0,199.0) translate(346.0, 199.0)\">\n",
              "        <circle stroke=\"white\" stroke-width=\"3\" fill=\"transparent\" r=\"12\" cx=\"0\" cy=\"0\"/>\n",
              "        <polygon points=\"0,19 3,16 -3,16\" style=\"fill:white;stroke:white;stroke-width:2\"/>\n",
              "      </g>\n",
              "    \n",
              "      </svg>\n",
              "    "
            ],
            "text/plain": [
              "<IPython.core.display.HTML object>"
            ]
          },
          "metadata": {
            "tags": []
          }
        }
      ]
    },
    {
      "cell_type": "code",
      "metadata": {
        "id": "xU_iLexTmLZ4",
        "colab_type": "code",
        "colab": {
          "base_uri": "https://localhost:8080/",
          "height": 521
        },
        "outputId": "043b9092-6a33-4870-88b4-d6e0b77d66fe"
      },
      "source": [
        "#Drawing a circle\n",
        "\n",
        "import ColabTurtle.Turtle as t\n",
        "\n",
        "def polygon(length, n):\n",
        "    for _ in range(n):\n",
        "        t.forward(length)\n",
        "        t.left(360 / n)\n",
        "\n",
        "t.initializeTurtle()\n",
        "\n",
        "polygon(10, 60)"
      ],
      "execution_count": 6,
      "outputs": [
        {
          "output_type": "display_data",
          "data": {
            "text/html": [
              "\n",
              "      <svg width=\"800\" height=\"500\">\n",
              "        <rect width=\"100%\" height=\"100%\" fill=\"black\"/>\n",
              "        <line x1=\"400\" y1=\"250\" x2=\"400.0\" y2=\"240.0\" stroke-linecap=\"round\" style=\"stroke:white;stroke-width:4\"/><line x1=\"400.0\" y1=\"240.0\" x2=\"398.95471536732344\" y2=\"230.05478104631726\" stroke-linecap=\"round\" style=\"stroke:white;stroke-width:4\"/><line x1=\"398.95471536732344\" y1=\"230.05478104631726\" x2=\"396.87559845914586\" y2=\"220.2733050389792\" stroke-linecap=\"round\" style=\"stroke:white;stroke-width:4\"/><line x1=\"396.87559845914586\" y1=\"220.2733050389792\" x2=\"393.7854285153964\" y2=\"210.76273987602767\" stroke-linecap=\"round\" style=\"stroke:white;stroke-width:4\"/><line x1=\"393.7854285153964\" y1=\"210.76273987602767\" x2=\"389.7180620846384\" y2=\"201.62728529960165\" stroke-linecap=\"round\" style=\"stroke:white;stroke-width:4\"/><line x1=\"389.7180620846384\" y1=\"201.62728529960165\" x2=\"384.7180620846384\" y2=\"192.96703126175726\" stroke-linecap=\"round\" style=\"stroke:white;stroke-width:4\"/><line x1=\"384.7180620846384\" y1=\"192.96703126175726\" x2=\"378.84020956171366\" y2=\"184.8768613180078\" stroke-linecap=\"round\" style=\"stroke:white;stroke-width:4\"/><line x1=\"378.84020956171366\" y1=\"184.8768613180078\" x2=\"372.1489034981251\" y2=\"177.44541306323384\" stroke-linecap=\"round\" style=\"stroke:white;stroke-width:4\"/><line x1=\"372.1489034981251\" y1=\"177.44541306323384\" x2=\"364.71745524335114\" y2=\"170.75410699964527\" stroke-linecap=\"round\" style=\"stroke:white;stroke-width:4\"/><line x1=\"364.71745524335114\" y1=\"170.75410699964527\" x2=\"356.6272852996017\" y2=\"164.87625447672053\" stroke-linecap=\"round\" style=\"stroke:white;stroke-width:4\"/><line x1=\"356.6272852996017\" y1=\"164.87625447672053\" x2=\"347.9670312617573\" y2=\"159.87625447672053\" stroke-linecap=\"round\" style=\"stroke:white;stroke-width:4\"/><line x1=\"347.9670312617573\" y1=\"159.87625447672053\" x2=\"338.8315766853313\" y2=\"155.80888804596253\" stroke-linecap=\"round\" style=\"stroke:white;stroke-width:4\"/><line x1=\"338.8315766853313\" y1=\"155.80888804596253\" x2=\"329.32101152237976\" y2=\"152.71871810221307\" stroke-linecap=\"round\" style=\"stroke:white;stroke-width:4\"/><line x1=\"329.32101152237976\" y1=\"152.71871810221307\" x2=\"319.53953551504173\" y2=\"150.6396011940355\" stroke-linecap=\"round\" style=\"stroke:white;stroke-width:4\"/><line x1=\"319.53953551504173\" y1=\"150.6396011940355\" x2=\"309.594316561359\" y2=\"149.59431656135897\" stroke-linecap=\"round\" style=\"stroke:white;stroke-width:4\"/><line x1=\"309.594316561359\" y1=\"149.59431656135897\" x2=\"299.594316561359\" y2=\"149.59431656135897\" stroke-linecap=\"round\" style=\"stroke:white;stroke-width:4\"/><line x1=\"299.594316561359\" y1=\"149.59431656135897\" x2=\"289.64909760767625\" y2=\"150.6396011940355\" stroke-linecap=\"round\" style=\"stroke:white;stroke-width:4\"/><line x1=\"289.64909760767625\" y1=\"150.6396011940355\" x2=\"279.8676216003382\" y2=\"152.71871810221307\" stroke-linecap=\"round\" style=\"stroke:white;stroke-width:4\"/><line x1=\"279.8676216003382\" y1=\"152.71871810221307\" x2=\"270.3570564373867\" y2=\"155.80888804596256\" stroke-linecap=\"round\" style=\"stroke:white;stroke-width:4\"/><line x1=\"270.3570564373867\" y1=\"155.80888804596256\" x2=\"261.2216018609607\" y2=\"159.87625447672056\" stroke-linecap=\"round\" style=\"stroke:white;stroke-width:4\"/><line x1=\"261.2216018609607\" y1=\"159.87625447672056\" x2=\"252.56134782311628\" y2=\"164.87625447672056\" stroke-linecap=\"round\" style=\"stroke:white;stroke-width:4\"/><line x1=\"252.56134782311628\" y1=\"164.87625447672056\" x2=\"244.4711778793668\" y2=\"170.7541069996453\" stroke-linecap=\"round\" style=\"stroke:white;stroke-width:4\"/><line x1=\"244.4711778793668\" y1=\"170.7541069996453\" x2=\"237.03972962459284\" y2=\"177.44541306323387\" stroke-linecap=\"round\" style=\"stroke:white;stroke-width:4\"/><line x1=\"237.03972962459284\" y1=\"177.44541306323387\" x2=\"230.34842356100427\" y2=\"184.87686131800783\" stroke-linecap=\"round\" style=\"stroke:white;stroke-width:4\"/><line x1=\"230.34842356100427\" y1=\"184.87686131800783\" x2=\"224.47057103807953\" y2=\"192.9670312617573\" stroke-linecap=\"round\" style=\"stroke:white;stroke-width:4\"/><line x1=\"224.47057103807953\" y1=\"192.9670312617573\" x2=\"219.47057103807953\" y2=\"201.6272852996017\" stroke-linecap=\"round\" style=\"stroke:white;stroke-width:4\"/><line x1=\"219.47057103807953\" y1=\"201.6272852996017\" x2=\"215.40320460732153\" y2=\"210.76273987602772\" stroke-linecap=\"round\" style=\"stroke:white;stroke-width:4\"/><line x1=\"215.40320460732153\" y1=\"210.76273987602772\" x2=\"212.31303466357204\" y2=\"220.27330503897926\" stroke-linecap=\"round\" style=\"stroke:white;stroke-width:4\"/><line x1=\"212.31303466357204\" y1=\"220.27330503897926\" x2=\"210.23391775539446\" y2=\"230.05478104631732\" stroke-linecap=\"round\" style=\"stroke:white;stroke-width:4\"/><line x1=\"210.23391775539446\" y1=\"230.05478104631732\" x2=\"209.18863312271793\" y2=\"240.00000000000006\" stroke-linecap=\"round\" style=\"stroke:white;stroke-width:4\"/><line x1=\"209.18863312271793\" y1=\"240.00000000000006\" x2=\"209.18863312271793\" y2=\"250.00000000000006\" stroke-linecap=\"round\" style=\"stroke:white;stroke-width:4\"/><line x1=\"209.18863312271793\" y1=\"250.00000000000006\" x2=\"210.23391775539446\" y2=\"259.9452189536828\" stroke-linecap=\"round\" style=\"stroke:white;stroke-width:4\"/><line x1=\"210.23391775539446\" y1=\"259.9452189536828\" x2=\"212.31303466357204\" y2=\"269.7266949610208\" stroke-linecap=\"round\" style=\"stroke:white;stroke-width:4\"/><line x1=\"212.31303466357204\" y1=\"269.7266949610208\" x2=\"215.40320460732153\" y2=\"279.23726012397236\" stroke-linecap=\"round\" style=\"stroke:white;stroke-width:4\"/><line x1=\"215.40320460732153\" y1=\"279.23726012397236\" x2=\"219.47057103807953\" y2=\"288.3727147003984\" stroke-linecap=\"round\" style=\"stroke:white;stroke-width:4\"/><line x1=\"219.47057103807953\" y1=\"288.3727147003984\" x2=\"224.47057103807953\" y2=\"297.03296873824274\" stroke-linecap=\"round\" style=\"stroke:white;stroke-width:4\"/><line x1=\"224.47057103807953\" y1=\"297.03296873824274\" x2=\"230.34842356100427\" y2=\"305.1231386819922\" stroke-linecap=\"round\" style=\"stroke:white;stroke-width:4\"/><line x1=\"230.34842356100427\" y1=\"305.1231386819922\" x2=\"237.03972962459284\" y2=\"312.55458693676616\" stroke-linecap=\"round\" style=\"stroke:white;stroke-width:4\"/><line x1=\"237.03972962459284\" y1=\"312.55458693676616\" x2=\"244.4711778793668\" y2=\"319.2458930003547\" stroke-linecap=\"round\" style=\"stroke:white;stroke-width:4\"/><line x1=\"244.4711778793668\" y1=\"319.2458930003547\" x2=\"252.56134782311628\" y2=\"325.12374552327947\" stroke-linecap=\"round\" style=\"stroke:white;stroke-width:4\"/><line x1=\"252.56134782311628\" y1=\"325.12374552327947\" x2=\"261.2216018609607\" y2=\"330.12374552327947\" stroke-linecap=\"round\" style=\"stroke:white;stroke-width:4\"/><line x1=\"261.2216018609607\" y1=\"330.12374552327947\" x2=\"270.3570564373867\" y2=\"334.19111195403747\" stroke-linecap=\"round\" style=\"stroke:white;stroke-width:4\"/><line x1=\"270.3570564373867\" y1=\"334.19111195403747\" x2=\"279.8676216003382\" y2=\"337.2812818977869\" stroke-linecap=\"round\" style=\"stroke:white;stroke-width:4\"/><line x1=\"279.8676216003382\" y1=\"337.2812818977869\" x2=\"289.64909760767625\" y2=\"339.3603988059645\" stroke-linecap=\"round\" style=\"stroke:white;stroke-width:4\"/><line x1=\"289.64909760767625\" y1=\"339.3603988059645\" x2=\"299.594316561359\" y2=\"340.40568343864106\" stroke-linecap=\"round\" style=\"stroke:white;stroke-width:4\"/><line x1=\"299.594316561359\" y1=\"340.40568343864106\" x2=\"309.594316561359\" y2=\"340.40568343864106\" stroke-linecap=\"round\" style=\"stroke:white;stroke-width:4\"/><line x1=\"309.594316561359\" y1=\"340.40568343864106\" x2=\"319.53953551504173\" y2=\"339.3603988059645\" stroke-linecap=\"round\" style=\"stroke:white;stroke-width:4\"/><line x1=\"319.53953551504173\" y1=\"339.3603988059645\" x2=\"329.32101152237976\" y2=\"337.2812818977869\" stroke-linecap=\"round\" style=\"stroke:white;stroke-width:4\"/><line x1=\"329.32101152237976\" y1=\"337.2812818977869\" x2=\"338.8315766853313\" y2=\"334.19111195403747\" stroke-linecap=\"round\" style=\"stroke:white;stroke-width:4\"/><line x1=\"338.8315766853313\" y1=\"334.19111195403747\" x2=\"347.9670312617573\" y2=\"330.12374552327947\" stroke-linecap=\"round\" style=\"stroke:white;stroke-width:4\"/><line x1=\"347.9670312617573\" y1=\"330.12374552327947\" x2=\"356.6272852996017\" y2=\"325.12374552327947\" stroke-linecap=\"round\" style=\"stroke:white;stroke-width:4\"/><line x1=\"356.6272852996017\" y1=\"325.12374552327947\" x2=\"364.71745524335114\" y2=\"319.2458930003547\" stroke-linecap=\"round\" style=\"stroke:white;stroke-width:4\"/><line x1=\"364.71745524335114\" y1=\"319.2458930003547\" x2=\"372.1489034981251\" y2=\"312.55458693676616\" stroke-linecap=\"round\" style=\"stroke:white;stroke-width:4\"/><line x1=\"372.1489034981251\" y1=\"312.55458693676616\" x2=\"378.84020956171366\" y2=\"305.1231386819922\" stroke-linecap=\"round\" style=\"stroke:white;stroke-width:4\"/><line x1=\"378.84020956171366\" y1=\"305.1231386819922\" x2=\"384.7180620846384\" y2=\"297.03296873824274\" stroke-linecap=\"round\" style=\"stroke:white;stroke-width:4\"/><line x1=\"384.7180620846384\" y1=\"297.03296873824274\" x2=\"389.7180620846384\" y2=\"288.3727147003984\" stroke-linecap=\"round\" style=\"stroke:white;stroke-width:4\"/><line x1=\"389.7180620846384\" y1=\"288.3727147003984\" x2=\"393.7854285153964\" y2=\"279.23726012397236\" stroke-linecap=\"round\" style=\"stroke:white;stroke-width:4\"/><line x1=\"393.7854285153964\" y1=\"279.23726012397236\" x2=\"396.87559845914586\" y2=\"269.7266949610208\" stroke-linecap=\"round\" style=\"stroke:white;stroke-width:4\"/><line x1=\"396.87559845914586\" y1=\"269.7266949610208\" x2=\"398.95471536732344\" y2=\"259.9452189536828\" stroke-linecap=\"round\" style=\"stroke:white;stroke-width:4\"/><line x1=\"398.95471536732344\" y1=\"259.9452189536828\" x2=\"400.0\" y2=\"250.00000000000006\" stroke-linecap=\"round\" style=\"stroke:white;stroke-width:4\"/>\n",
              "        \n",
              "      <g visibility=visible transform=\"rotate(180.0,400.0,250.00000000000006) translate(400.0, 250.00000000000006)\">\n",
              "        <circle stroke=\"white\" stroke-width=\"3\" fill=\"transparent\" r=\"12\" cx=\"0\" cy=\"0\"/>\n",
              "        <polygon points=\"0,19 3,16 -3,16\" style=\"fill:white;stroke:white;stroke-width:2\"/>\n",
              "      </g>\n",
              "    \n",
              "      </svg>\n",
              "    "
            ],
            "text/plain": [
              "<IPython.core.display.HTML object>"
            ]
          },
          "metadata": {
            "tags": []
          }
        }
      ]
    },
    {
      "cell_type": "code",
      "metadata": {
        "id": "Hl9WLKlrnIrh",
        "colab_type": "code",
        "colab": {
          "base_uri": "https://localhost:8080/",
          "height": 521
        },
        "outputId": "8971a9cf-8bd3-4628-a128-0afa6b3f248d"
      },
      "source": [
        "import ColabTurtle.Turtle as t\n",
        "t.initializeTurtle()\n",
        "\n",
        "from math import pi\n",
        "\n",
        "def tcircle(radius):\n",
        "\n",
        "    #function could be summarized into:\n",
        "    #regular_polygon(int((2 * pi * radius)/9)),9)\n",
        "\n",
        "    #explained step by step:\n",
        "    \"\"\"draws a regular polygon of n sides\n",
        "    that is supposed to appear like a circle.\n",
        "    n is set to 9 for fast drawing time.\n",
        "    it calculates rounded side length from n and radius\"\"\"\n",
        "    #circumference (c)= 2*pi*radius\n",
        "    c = 2 * pi * radius\n",
        "\n",
        "\n",
        "    #n = amount of lines or corners, it defines the accuracy of the circle\n",
        "    n = 9 # lower number to decrease drawing time (can be any float or int)\n",
        "\n",
        "    #circumference (c) = ca.  l * n\n",
        "    #l = length of individual lines \n",
        "    l = c / n\n",
        "\n",
        "    regular_polygon(int(l),n)\n",
        "\n",
        "\n",
        "def regular_polygon(l, n):\n",
        "    \"\"\"draws a regular polygon of n amount sides of length l\n",
        "    that is supposed to appear like a circle.\n",
        "    function by cdlane from a stackoverflow post\"\"\"\n",
        "    for _ in range(n):\n",
        "        t.forward(l)\n",
        "        t.left(360 / n)\n",
        "\n",
        "#circle_example\n",
        "t.forward(35)\n",
        "tcircle(45)"
      ],
      "execution_count": 7,
      "outputs": [
        {
          "output_type": "display_data",
          "data": {
            "text/html": [
              "\n",
              "      <svg width=\"800\" height=\"500\">\n",
              "        <rect width=\"100%\" height=\"100%\" fill=\"black\"/>\n",
              "        <line x1=\"400\" y1=\"250\" x2=\"400.0\" y2=\"215.0\" stroke-linecap=\"round\" style=\"stroke:white;stroke-width:4\"/><line x1=\"400.0\" y1=\"215.0\" x2=\"400.0\" y2=\"184.0\" stroke-linecap=\"round\" style=\"stroke:white;stroke-width:4\"/><line x1=\"400.0\" y1=\"184.0\" x2=\"380.07358409971727\" y2=\"160.25262226331168\" stroke-linecap=\"round\" style=\"stroke:white;stroke-width:4\"/><line x1=\"380.07358409971727\" y1=\"160.25262226331168\" x2=\"349.54454375633884\" y2=\"154.86952875563682\" stroke-linecap=\"round\" style=\"stroke:white;stroke-width:4\"/><line x1=\"349.54454375633884\" y1=\"154.86952875563682\" x2=\"322.69775623902126\" y2=\"170.36952875563682\" stroke-linecap=\"round\" style=\"stroke:white;stroke-width:4\"/><line x1=\"322.69775623902126\" y1=\"170.36952875563682\" x2=\"312.0951317959255\" y2=\"199.49999999999997\" stroke-linecap=\"round\" style=\"stroke:white;stroke-width:4\"/><line x1=\"312.0951317959255\" y1=\"199.49999999999997\" x2=\"322.69775623902126\" y2=\"228.63047124436312\" stroke-linecap=\"round\" style=\"stroke:white;stroke-width:4\"/><line x1=\"322.69775623902126\" y1=\"228.63047124436312\" x2=\"349.54454375633884\" y2=\"244.13047124436312\" stroke-linecap=\"round\" style=\"stroke:white;stroke-width:4\"/><line x1=\"349.54454375633884\" y1=\"244.13047124436312\" x2=\"380.07358409971727\" y2=\"238.7473777366883\" stroke-linecap=\"round\" style=\"stroke:white;stroke-width:4\"/><line x1=\"380.07358409971727\" y1=\"238.7473777366883\" x2=\"400.0\" y2=\"214.99999999999997\" stroke-linecap=\"round\" style=\"stroke:white;stroke-width:4\"/>\n",
              "        \n",
              "      <g visibility=visible transform=\"rotate(180.0,400.0,214.99999999999997) translate(400.0, 214.99999999999997)\">\n",
              "        <circle stroke=\"white\" stroke-width=\"3\" fill=\"transparent\" r=\"12\" cx=\"0\" cy=\"0\"/>\n",
              "        <polygon points=\"0,19 3,16 -3,16\" style=\"fill:white;stroke:white;stroke-width:2\"/>\n",
              "      </g>\n",
              "    \n",
              "      </svg>\n",
              "    "
            ],
            "text/plain": [
              "<IPython.core.display.HTML object>"
            ]
          },
          "metadata": {
            "tags": []
          }
        }
      ]
    }
  ]
}