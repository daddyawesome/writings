{
  "nbformat": 4,
  "nbformat_minor": 0,
  "metadata": {
    "colab": {
      "name": "be a Python Shinobi.ipynb",
      "provenance": [],
      "authorship_tag": "ABX9TyNWVMsgdldt24Sp/VL/6gze"
    },
    "kernelspec": {
      "name": "python3",
      "display_name": "Python 3"
    }
  },
  "cells": [
    {
      "cell_type": "markdown",
      "metadata": {
        "id": "61hZYtVGEPoi",
        "colab_type": "text"
      },
      "source": [
        "#Introduction\n",
        "\n",
        "## What is a Python Shinobi?\n",
        "![alt text](https://encrypted-tbn0.gstatic.com/images?q=tbn%3AANd9GcRKYEkvhFM-91k6a80gYWe8vRNFsPHzmyoArQ&usqp=CAU)\n",
        "\n",
        "A python shinobi are kids who knows how to code using python.\n",
        "![alt text](https://snipboard.io/hFKG2m.jpg)\n",
        "<br><br>\n",
        "Coding for Kids: Python is a unique and fun introduction to the Python programming language. Written for someone with absolutely no experience with coding, this book uses silly analogies, helpful examples, and many activities and games to help anyone learn how to code in Python!\n",
        "<br><br>\n",
        "Code is at the core of almost everything we use and love. We can write code to make games, create music and art, bring robots to life, and power almost anything that is electronic. When you realize how much coding is a part of the world of the future, it becomes so important to learn how it works!\n",
        "<br><br>\n",
        "Coding is literally translating human ideas and actions into a language that computers can understand. Python is one of the languages, but there are many others—for example: JavaScript, C#, Ruby, and C++. Each of these languages tells the computer how to do something, but each one does it a bit differently. I chose Python for this book because it is very close to our speaking language of English, which makes the coding concepts I will introduce a little easier to understand. :) \n",
        "<br><br>\n",
        "Coding is one skill that you’ll only learn by doing. That’s why I’ve structured each chapter to walk you through the code as you follow along. This makes the book truly interactive, as you’ll learn about a concept, write some code, understand what it’s doing, read and learn a bit more, maybe fix a bug or two, and see the results of your code in real time! And to really help you understand the different coding concepts in this book, I’ve also included activities at the end of each chapter to help you test your knowledge, combine multiple concepts, and write more code. After all, practice makes perfect—especially with coding! Finally, if some of the activities are too easy for you, or if you just want to keep coding, I’ve included even more difficult challenges after each chapter to really stretch your brain and give you more chances to show off your creativity! \n",
        "<br><br>\n",
        "This notebook will help you start an incredible adventure into the world of programming. By the end of it, you’ll be ready for the world of the future! What are you waiting for? \n",
        "![](https://snipboard.io/mwYVRr.jpg)\n",
        "\n",
        "\n",
        "- Genin. \n",
        "- Chuunin. \n",
        "- Jounin. \n",
        "- Special Jounin. \n",
        "- Kage. "
      ]
    },
    {
      "cell_type": "markdown",
      "metadata": {
        "id": "cNnZLrrVESNe",
        "colab_type": "text"
      },
      "source": [
        ""
      ]
    },
    {
      "cell_type": "markdown",
      "metadata": {
        "id": "9ggGqJ7zEShE",
        "colab_type": "text"
      },
      "source": [
        ""
      ]
    },
    {
      "cell_type": "markdown",
      "metadata": {
        "id": "aBpzMpt-EStV",
        "colab_type": "text"
      },
      "source": [
        ""
      ]
    },
    {
      "cell_type": "code",
      "metadata": {
        "id": "oONlfIRB9j9i",
        "colab_type": "code",
        "colab": {}
      },
      "source": [
        "for i in range(1,99,1):\n",
        "  print(i)"
      ],
      "execution_count": null,
      "outputs": []
    }
  ]
}